{
 "cells": [
  {
   "attachments": {},
   "cell_type": "markdown",
   "metadata": {},
   "source": [
    "# Medical data analysis using graphs"
   ]
  },
  {
   "cell_type": "code",
   "execution_count": null,
   "metadata": {},
   "outputs": [],
   "source": [
    "import os.path as op\n",
    "import numpy as np      # array e operazioni numeriche veloci\n",
    "import pandas as pd     # dataframe per enorme raccolta dati\n",
    "import networkx as nx   # grafi efficienti e visualizzabili\n",
    "import matplotlib.pyplot as plt # plotting\n",
    "\n",
    "pd.set_option('display.max_columns', 50)\n",
    "\n",
    "studyId = 'nsclc_ctdx_msk_2022'"
   ]
  },
  {
   "attachments": {},
   "cell_type": "markdown",
   "metadata": {},
   "source": [
    "##### Patient Data"
   ]
  },
  {
   "cell_type": "code",
   "execution_count": null,
   "metadata": {},
   "outputs": [],
   "source": [
    "patientdata_df = pd.DataFrame()\n",
    "path = f'{studyId}/data_clinical_patient.txt'\n",
    "if op.isfile(path):\n",
    "    patientdata_df = pd.read_csv(path, sep='\\t', skiprows=4)\n",
    "    display(patientdata_df)\n",
    "else:\n",
    "    display('No patient data available')"
   ]
  },
  {
   "attachments": {},
   "cell_type": "markdown",
   "metadata": {},
   "source": [
    "##### Sample Data"
   ]
  },
  {
   "cell_type": "code",
   "execution_count": null,
   "metadata": {},
   "outputs": [],
   "source": [
    "sampledata_df = pd.DataFrame(columns=['SAMPLE_ID'])\n",
    "path = f'{studyId}/data_clinical_sample.txt'\n",
    "if op.isfile(path):\n",
    "    sampledata_df = pd.read_csv(path, sep='\\t', skiprows=4)\n",
    "    display(sampledata_df)\n",
    "else:\n",
    "    display('No sample data available')"
   ]
  },
  {
   "attachments": {},
   "cell_type": "markdown",
   "metadata": {},
   "source": [
    "##### Mutation Data"
   ]
  },
  {
   "cell_type": "code",
   "execution_count": null,
   "metadata": {},
   "outputs": [],
   "source": [
    "mutationdata_df = pd.DataFrame(columns=['Tumor_Sample_Barcode'])\n",
    "path = f'{studyId}/data_mutations.txt'\n",
    "if op.isfile(path):\n",
    "    mutationdata_df = pd.read_csv(f'{studyId}/data_mutations.txt', sep='\\t', skiprows=2)\n",
    "    mutationdata_df.drop_duplicates(inplace=True)\n",
    "    display(mutationdata_df)\n",
    "else:\n",
    "    display('No mutation data available')"
   ]
  },
  {
   "cell_type": "code",
   "execution_count": null,
   "metadata": {},
   "outputs": [],
   "source": [
    "genes = np.array([])\n",
    "with open(\"GreenGraph/genes.txt\") as file:\n",
    "    for line in file:\n",
    "        x = line.strip()\n",
    "        genes = np.append(genes, x)"
   ]
  },
  {
   "attachments": {},
   "cell_type": "markdown",
   "metadata": {},
   "source": [
    "##### Treatment Data"
   ]
  },
  {
   "cell_type": "code",
   "execution_count": null,
   "metadata": {},
   "outputs": [],
   "source": [
    "treatdata_df = pd.DataFrame()\n",
    "path = f'{studyId}/data_timeline_treatment.txt'\n",
    "if op.isfile(path):\n",
    "    treatdata_df = pd.read_csv(f'{studyId}/data_timeline_treatment.txt', sep='\\t')\n",
    "    display(treatdata_df)\n",
    "else:\n",
    "    display('No tratment data available')"
   ]
  },
  {
   "attachments": {},
   "cell_type": "markdown",
   "metadata": {},
   "source": [
    "### Manipulating Data"
   ]
  },
  {
   "cell_type": "code",
   "execution_count": null,
   "metadata": {},
   "outputs": [],
   "source": [
    "tdata = pd.merge(sampledata_df, mutationdata_df, left_on='SAMPLE_ID', right_on='Tumor_Sample_Barcode')\n",
    "tdata = tdata.astype(str)\n",
    "tdata['MUTATION'] = tdata[['Hugo_Symbol', 'Chromosome', 'Start_Position', 'End_Position']].agg('_'.join, axis='columns')\n",
    "#data = tdata[['SAMPLE_ID', 'PATIENT_ID', 'CANCER_TYPE', 'CANCER_TYPE_DETAILED', 'MUTATION']]\n",
    "display(tdata)"
   ]
  },
  {
   "cell_type": "code",
   "execution_count": null,
   "metadata": {},
   "outputs": [],
   "source": [
    "# conteggio delle malattie\n",
    "diseasec = tdata.value_counts('CANCER_TYPE', dropna=False)\n",
    "display(diseasec)"
   ]
  },
  {
   "cell_type": "code",
   "execution_count": null,
   "metadata": {},
   "outputs": [],
   "source": [
    "# conteggio dei pazienti\n",
    "patientc = tdata.value_counts('PATIENT_ID', dropna=False)\n",
    "display(patientc)"
   ]
  },
  {
   "cell_type": "code",
   "execution_count": null,
   "metadata": {},
   "outputs": [],
   "source": [
    "# conteggio deile mutazioni\n",
    "mutationc = tdata.value_counts('MUTATION', dropna=False)\n",
    "display(mutationc)"
   ]
  },
  {
   "cell_type": "code",
   "execution_count": null,
   "metadata": {},
   "outputs": [],
   "source": [
    "E_DiP = nx.from_pandas_edgelist(tdata, source='CANCER_TYPE', target='PATIENT_ID', create_using=nx.DiGraph())\n",
    "E_PM = nx.from_pandas_edgelist(tdata, source='PATIENT_ID', target='MUTATION', create_using=nx.DiGraph())\n",
    "\n",
    "#Di = [n for n,d in E_DiP.in_degree() if d==0]\n",
    "#pos = nx.bipartite_layout(E_DiP, Di)\n",
    "\n",
    "#nx.draw_networkx(E_DiP)\n",
    "\n",
    "P = [node for node, degree in E_PM.in_degree() if degree == 0]\n",
    "M = [node for node, degree in E_PM.out_degree() if degree == 0]\n",
    "\n",
    "clusters = {}\n",
    "for patient in P:\n",
    "    mutations = frozenset(n for n in E_PM.neighbors(patient))\n",
    "\n",
    "    cluster_found = False\n",
    "    for c_mutations, c_patients in clusters.items():\n",
    "        if mutations == c_mutations:\n",
    "            c_patients.add(patient)\n",
    "            cluster_found = True\n",
    "            break\n",
    "\n",
    "    if not cluster_found:\n",
    "        clusters[mutations] = {patient}\n",
    "\n",
    "clusters_stats = {'Cluster' : [], \n",
    "                 'Numero di pazienti' : []}\n",
    "\n",
    "clusters = dict(sorted(clusters.items(), key=lambda item: len(item[1]), reverse=True))\n",
    "cluster_dfs = []\n",
    "cc = 0\n",
    "for k, v in clusters.items():\n",
    "    if len(v) > 1:\n",
    "        clusters_stats['Cluster'].append(cc)\n",
    "        clusters_stats['Numero di pazienti'].append(len(v))\n",
    "        cc += 1\n",
    "\n",
    "        cluster_data = {'Paziente' : [],\n",
    "                        'Malattia' : []}\n",
    "        for p in v:\n",
    "            disease = tdata.loc[tdata['PATIENT_ID'] == p, 'CANCER_TYPE_DETAILED'].values[0]\n",
    "            cluster_data['Paziente'].append(p)\n",
    "            cluster_data['Malattia'].append(disease)\n",
    "        cdf = pd.DataFrame(cluster_data)\n",
    "        cluster_dfs.append(cdf)\n",
    "\n",
    "clusters_df = pd.DataFrame(clusters_stats)\n",
    "display(clusters_df)\n",
    "\n",
    "for dataframe in cluster_dfs:\n",
    "    display(dataframe)"
   ]
  }
 ],
 "metadata": {
  "kernelspec": {
   "display_name": "Python 3",
   "language": "python",
   "name": "python3"
  },
  "language_info": {
   "codemirror_mode": {
    "name": "ipython",
    "version": 3
   },
   "file_extension": ".py",
   "mimetype": "text/x-python",
   "name": "python",
   "nbconvert_exporter": "python",
   "pygments_lexer": "ipython3",
   "version": "3.11.2"
  },
  "orig_nbformat": 4
 },
 "nbformat": 4,
 "nbformat_minor": 2
}
