{
 "cells": [
  {
   "cell_type": "markdown",
   "metadata": {},
   "source": [
    "### Medical data analysis using graphs"
   ]
  },
  {
   "cell_type": "code",
   "execution_count": null,
   "metadata": {},
   "outputs": [],
   "source": [
    "from main import *\n",
    "\n",
    "pd.set_option('display.max_rows', 150)\n",
    "pd.set_option('display.max_columns', 150)\n",
    "\n",
    "studyId = 'msk_met_2021'"
   ]
  },
  {
   "cell_type": "markdown",
   "metadata": {},
   "source": [
    "Patient Data"
   ]
  },
  {
   "cell_type": "code",
   "execution_count": null,
   "metadata": {},
   "outputs": [],
   "source": [
    "patient_data = get_PatientData(studyId)\n",
    "display(patient_data)"
   ]
  },
  {
   "cell_type": "markdown",
   "metadata": {},
   "source": [
    "Sample Data"
   ]
  },
  {
   "cell_type": "code",
   "execution_count": null,
   "metadata": {},
   "outputs": [],
   "source": [
    "sample_data = get_SampleData(studyId)\n",
    "display(sample_data)"
   ]
  },
  {
   "cell_type": "markdown",
   "metadata": {},
   "source": [
    "Mutation Data"
   ]
  },
  {
   "cell_type": "code",
   "execution_count": null,
   "metadata": {},
   "outputs": [],
   "source": [
    "mutation_data = get_MutationData(studyId)\n",
    "display(mutation_data)"
   ]
  },
  {
   "cell_type": "markdown",
   "metadata": {},
   "source": [
    "Full Data"
   ]
  },
  {
   "cell_type": "code",
   "execution_count": null,
   "metadata": {},
   "outputs": [],
   "source": [
    "full_data = get_FullData(sample_data, mutation_data)\n",
    "display(full_data)"
   ]
  },
  {
   "cell_type": "markdown",
   "metadata": {},
   "source": [
    "Graph Work"
   ]
  },
  {
   "cell_type": "code",
   "execution_count": null,
   "metadata": {},
   "outputs": [],
   "source": [
    "dip_graph = build_DiPGraph(full_data)\n",
    "pm_graph = build_PMGraph(full_data, patient_data, sample_data)"
   ]
  },
  {
   "cell_type": "code",
   "execution_count": null,
   "metadata": {},
   "outputs": [],
   "source": [
    "disease = 'Non-Small Cell Lung Cancer'\n",
    "mcount = dip_graph.degree(disease)\n",
    "dis_mutations = getMutations_fromDisease(dip_graph, pm_graph, disease, mcount)\n",
    "dis_mutations = dis_mutations.style.set_caption(f'{disease} - {mcount} patients')\n",
    "display(dis_mutations)"
   ]
  },
  {
   "cell_type": "code",
   "execution_count": null,
   "metadata": {},
   "outputs": [],
   "source": [
    "cl_attributes = ['CANCER_TYPE', 'OS_MONTHS', 'OS_STATUS', 'SMOKING_STATUS', 'SMOKING_HISTORY', 'DRIVERS_MUTATIONS', 'TARGET_THERAPY']\n",
    "clusters = clustering(pm_graph, cl_attributes)\n",
    "\n",
    "cl_stats = {'Cluster' : [], 'N. of patients' : []}\n",
    "for n, cls in clusters.items():\n",
    "    cl_stats['Cluster'].append(n)\n",
    "    cl_stats['N. of patients'].append(len(cls[0]))\n",
    "cl_stats_df = pd.DataFrame(cl_stats)\n",
    "display(cl_stats_df)\n",
    "display(clusters[232][0])\n",
    "#for n, cls in clusters.items():\n",
    "        #p_df = cls[0].style.set_caption(f'Cluster {n}')\n",
    "        #m_df = cls[1].style.set_caption(f'Cluster {n}')\n",
    "        #display(p_df, m_df)"
   ]
  }
 ],
 "metadata": {
  "kernelspec": {
   "display_name": "Python 3",
   "language": "python",
   "name": "python3"
  },
  "language_info": {
   "codemirror_mode": {
    "name": "ipython",
    "version": 3
   },
   "file_extension": ".py",
   "mimetype": "text/x-python",
   "name": "python",
   "nbconvert_exporter": "python",
   "pygments_lexer": "ipython3",
   "version": "3.11.2"
  }
 },
 "nbformat": 4,
 "nbformat_minor": 2
}
