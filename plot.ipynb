{
 "cells": [
  {
   "cell_type": "markdown",
   "metadata": {},
   "source": [
    "## Medical data analysis using graphs"
   ]
  },
  {
   "cell_type": "code",
   "execution_count": null,
   "metadata": {},
   "outputs": [],
   "source": [
    "from main import *\n",
    "import dataframe_image as dfi\n",
    "\n",
    "pd.set_option('display.max_rows', 150)\n",
    "pd.set_option('display.max_columns', 150)\n",
    "\n",
    "studyId = 'nsclc_ctdx_msk_2022'"
   ]
  },
  {
   "cell_type": "markdown",
   "metadata": {},
   "source": [
    "#### Getting data from local files (downloaded from https://www.cbioportal.org/)"
   ]
  },
  {
   "cell_type": "markdown",
   "metadata": {},
   "source": [
    "Patient data"
   ]
  },
  {
   "cell_type": "code",
   "execution_count": null,
   "metadata": {},
   "outputs": [],
   "source": [
    "patient_data = get_PatientData(studyId)\n",
    "display(patient_data)"
   ]
  },
  {
   "cell_type": "markdown",
   "metadata": {},
   "source": [
    "Sample data"
   ]
  },
  {
   "cell_type": "code",
   "execution_count": null,
   "metadata": {},
   "outputs": [],
   "source": [
    "sample_data = get_SampleData(studyId)\n",
    "display(sample_data)"
   ]
  },
  {
   "cell_type": "markdown",
   "metadata": {},
   "source": [
    "Mutation data"
   ]
  },
  {
   "cell_type": "code",
   "execution_count": null,
   "metadata": {},
   "outputs": [],
   "source": [
    "mutation_data = get_MutationData(studyId)\n",
    "display(mutation_data)"
   ]
  },
  {
   "cell_type": "markdown",
   "metadata": {},
   "source": [
    "Full data (by merging sample and mutation data)"
   ]
  },
  {
   "cell_type": "code",
   "execution_count": null,
   "metadata": {},
   "outputs": [],
   "source": [
    "full_data = get_FullData(sample_data, mutation_data)\n",
    "display(full_data)"
   ]
  },
  {
   "cell_type": "code",
   "execution_count": null,
   "metadata": {},
   "outputs": [],
   "source": [
    "# check dbSNP_RS values\n",
    "full_data.value_counts('dbSNP_RS')"
   ]
  },
  {
   "cell_type": "code",
   "execution_count": null,
   "metadata": {},
   "outputs": [],
   "source": [
    "# check patient ids\n",
    "full_data.value_counts('PATIENT_ID')"
   ]
  },
  {
   "cell_type": "code",
   "execution_count": null,
   "metadata": {},
   "outputs": [],
   "source": [
    "# check mutation values\n",
    "full_data.value_counts('MUTATION')"
   ]
  },
  {
   "cell_type": "code",
   "execution_count": null,
   "metadata": {},
   "outputs": [],
   "source": [
    "# check cancer type detailed values\n",
    "full_data.value_counts('CANCER_TYPE_DETAILED')"
   ]
  },
  {
   "cell_type": "markdown",
   "metadata": {},
   "source": [
    "Drugs data (from file geni_farmaci.xls)"
   ]
  },
  {
   "cell_type": "code",
   "execution_count": null,
   "metadata": {},
   "outputs": [],
   "source": [
    "drugs_data = get_DrugsData()\n",
    "display(drugs_data)"
   ]
  },
  {
   "cell_type": "markdown",
   "metadata": {},
   "source": [
    "#### Building the green graph and working on it"
   ]
  },
  {
   "cell_type": "code",
   "execution_count": null,
   "metadata": {},
   "outputs": [],
   "source": [
    "dip_graph = build_DiPGraph(full_data)\n",
    "pm_graph = build_PMGraph(full_data, patient_data, sample_data)"
   ]
  },
  {
   "cell_type": "code",
   "execution_count": null,
   "metadata": {},
   "outputs": [],
   "source": [
    "diseases = get_DiNodes(dip_graph)\n",
    "dd = {'Disease' : [], 'Patient count' : []}\n",
    "for di in diseases:\n",
    "    pcnt = len(set(m for m in dip_graph.neighbors(di)))\n",
    "    dd['Disease'].append(di)\n",
    "    dd['Patient count'].append(pcnt)\n",
    "ddf = pd.DataFrame(dd)\n",
    "ddf.sort_values(by='Patient count', ascending=False, inplace=True)\n",
    "ddf.reset_index(drop=True, inplace=True)\n",
    "ddfi = ddf.iloc[:5]\n",
    "display(ddfi)\n",
    "#dfi.export(ddfi, f'immagini tesi/{studyId}/malattie.png')\n",
    "    "
   ]
  },
  {
   "cell_type": "code",
   "execution_count": null,
   "metadata": {},
   "outputs": [],
   "source": [
    "disease = 'Lung Adenocarcinoma'\n",
    "mcount = dip_graph.degree(disease)\n",
    "dis_mutations = getMutations_fromDisease(dip_graph, pm_graph, disease, mcount)\n",
    "print(f'{disease} - {mcount} pazienti')\n",
    "#dis_mutations = dis_mutations.style.set_caption(f'{disease} - {mcount} patients')\n",
    "df = dis_mutations.iloc[:10]\n",
    "display(df)\n",
    "#dfi.export(df, f'immagini tesi/{studyId}/panadenocarcinoma.png')"
   ]
  },
  {
   "cell_type": "markdown",
   "metadata": {},
   "source": [
    "#### Clustering"
   ]
  },
  {
   "cell_type": "code",
   "execution_count": null,
   "metadata": {},
   "outputs": [],
   "source": [
    "cluster_attributes = ['CANCER_TYPE_DETAILED', 'SEX', 'OS_STATUS', 'OS_MONTHS']\n",
    "threshold = 1   # imposta ad un numero decimale tra 0 e 1 (compresi)\n",
    "clusters = clustering(pm_graph, threshold)"
   ]
  },
  {
   "cell_type": "markdown",
   "metadata": {},
   "source": [
    "Display general cluster view"
   ]
  },
  {
   "cell_type": "code",
   "execution_count": null,
   "metadata": {},
   "outputs": [],
   "source": [
    "if len(clusters) > 0:\n",
    "    cluster_view = {'Cluster' : [], 'Numero pazienti' : [], 'Numero mutazioni': []}\n",
    "    for n, patients in clusters.items():\n",
    "        cluster_view['Cluster'].append(n)\n",
    "        cluster_view['Numero pazienti'].append(len(patients))\n",
    "        leader = patients[0]\n",
    "        leader_mutations = list(m for m in pm_graph.neighbors(leader))\n",
    "        cluster_view['Numero mutazioni'].append(len(leader_mutations))\n",
    "    cluster_view_df = pd.DataFrame(cluster_view)\n",
    "\n",
    "    total_patients = len(get_PNodes(pm_graph))\n",
    "    cluster_patients = cluster_view_df['Numero pazienti'].sum()\n",
    "    ones = total_patients - cluster_patients\n",
    "    total_clusters = len(clusters) + ones\n",
    "    cluster_view_df.iloc[:].plot.bar(x='Cluster', rot=0, title=f'Clustering di {total_patients} pazienti - Soglia di similaritá = {threshold}', figsize=(10, 4))\n",
    "    with pd.option_context('display.max_rows', 10):\n",
    "        display(cluster_view_df)\n",
    "    print(f'{total_patients} pazienti\\n{total_clusters} cluster totali: {len(clusters)} cluster con piú di un paziente ({cluster_patients} pazienti), {ones} cluster con un paziente')"
   ]
  },
  {
   "cell_type": "markdown",
   "metadata": {},
   "source": [
    "Display all clusters (or a specific cluster)"
   ]
  },
  {
   "cell_type": "code",
   "execution_count": null,
   "metadata": {},
   "outputs": [],
   "source": [
    "cluster_dfs = {}\n",
    "cluster_model = {'PATIENT' : []}\n",
    "for attr in cluster_attributes:\n",
    "    if nx.get_node_attributes(pm_graph, attr):\n",
    "        cluster_model[attr] = []\n",
    "\n",
    "for n, patients in clusters.items():\n",
    "    cluster_data = copy.deepcopy(cluster_model)\n",
    "    for p in patients:\n",
    "        for attr in cluster_data.keys():\n",
    "            if attr == 'PATIENT':\n",
    "                cluster_data[attr].append(p)\n",
    "            else:\n",
    "                cluster_data[attr].append(pm_graph.nodes[p][attr])\n",
    "    cluster_df = pd.DataFrame(cluster_data)\n",
    "    cluster_dfs[n] = cluster_df\n",
    "\n",
    "#dfi.export(cluster_dfs[0], f'immagini tesi/{studyId}/cl0.png')\n",
    "\n",
    "def show_cluster(number):\n",
    "    #show = 0    # imposta al numero di cluster che si vuole approfondire o a -1 per vederli tutti\n",
    "    for n, cluster in cluster_dfs.items():\n",
    "        if n == number or number == -1:\n",
    "            cluster_df = cluster.style.set_caption(f'Cluster {n}')\n",
    "            leader = clusters[n][0]\n",
    "            leader_mutations = list(m for m in pm_graph.neighbors(leader))\n",
    "            cluster_mutations = {'MUTATION' : leader_mutations}\n",
    "            cluster_mutations_df = pd.DataFrame(cluster_mutations)\n",
    "            #dfi.export(cluster_mutations_df, f'immagini tesi/{studyId}/cl0_mutations.png')\n",
    "            display(cluster_df)\n",
    "            display(cluster_mutations_df)\n",
    "            '''for attr in cluster_attributes:\n",
    "                if attr == 'OS_MONTHS':\n",
    "                    cluster[attr].plot.bar(xlabel='Patient', rot=0, title=attr)\n",
    "                else:\n",
    "                    cluster[attr].value_counts().plot(kind='pie', autopct='%1.0f%%', title=attr, ylabel='')\n",
    "                plt.show()'''\n",
    "            #cluster[attribute].value_counts().plot(kind='pie', autopct='%1.0f%%', title=attribute)\n",
    "\n",
    "show_cluster(-1)"
   ]
  }
 ],
 "metadata": {
  "kernelspec": {
   "display_name": "Python 3",
   "language": "python",
   "name": "python3"
  },
  "language_info": {
   "codemirror_mode": {
    "name": "ipython",
    "version": 3
   },
   "file_extension": ".py",
   "mimetype": "text/x-python",
   "name": "python",
   "nbconvert_exporter": "python",
   "pygments_lexer": "ipython3",
   "version": "3.11.2"
  }
 },
 "nbformat": 4,
 "nbformat_minor": 2
}
