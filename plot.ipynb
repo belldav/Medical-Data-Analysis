{
 "cells": [
  {
   "cell_type": "markdown",
   "metadata": {},
   "source": [
    "Setup delle variabili generali"
   ]
  },
  {
   "cell_type": "code",
   "execution_count": 1,
   "metadata": {},
   "outputs": [],
   "source": [
    "from main import *\n",
    "\n",
    "pd.set_option('display.max_rows', 50)\n",
    "pd.set_option('display.max_columns', 150)\n",
    "\n",
    "studyId = 'nsclc_ctdx_msk_2022'\n",
    "#studyId = 'msk_impact_2017'\n",
    "#studyId = 'msk_met_2021'\n",
    "#studyId = 'pancan_pcawg_2020'"
   ]
  },
  {
   "cell_type": "markdown",
   "metadata": {},
   "source": [
    "Importazione dei dati"
   ]
  },
  {
   "cell_type": "code",
   "execution_count": 2,
   "metadata": {},
   "outputs": [],
   "source": [
    "patient_data = get_PatientData(studyId)\n",
    "#display(patient_data)\n",
    "\n",
    "sample_data = get_SampleData(studyId)\n",
    "#display(sample_data)\n",
    "\n",
    "mutation_data = get_MutationData(studyId)\n",
    "#display(mutation_data)\n",
    "\n",
    "full_data = get_FullData(sample_data, mutation_data)\n",
    "#display(full_data)"
   ]
  },
  {
   "cell_type": "markdown",
   "metadata": {},
   "source": [
    "Costruzione del grafo"
   ]
  },
  {
   "cell_type": "code",
   "execution_count": 3,
   "metadata": {},
   "outputs": [],
   "source": [
    "dip_graph = build_DiPGraph(full_data)\n",
    "pm_graph = build_PMGraph(full_data, patient_data, sample_data)"
   ]
  },
  {
   "cell_type": "markdown",
   "metadata": {},
   "source": [
    "Vista sulle malattie"
   ]
  },
  {
   "cell_type": "code",
   "execution_count": null,
   "metadata": {},
   "outputs": [],
   "source": [
    "df0 = show_diseases(dip_graph)\n",
    "\n",
    "display(df0)\n",
    "#with pd.option_context('display.max_rows', None): display(df)"
   ]
  },
  {
   "cell_type": "markdown",
   "metadata": {},
   "source": [
    "Vista di una malattia specifica: pazienti e mutazioni"
   ]
  },
  {
   "cell_type": "code",
   "execution_count": null,
   "metadata": {},
   "outputs": [],
   "source": [
    "disease = 'all'\n",
    "kmin = 0\n",
    "kmax = 1000\n",
    "genes = set()\n",
    "status = 'all'\n",
    "patients = getPatients_fromDisease(dip_graph, pm_graph, disease, kmin, kmax, genes, status, no_check=False)\n",
    "\n",
    "df1 = view_patients(pm_graph, patients)\n",
    "\n",
    "df2 = getMutations_fromPatients(pm_graph, patients)\n",
    "\n",
    "df3 = df2.groupby('Gene')['% Pazienti'].sum().reset_index(name='% Pazienti')\n",
    "df3.sort_values(by='% Pazienti', ascending=False, inplace=True)\n",
    "df3.reset_index(drop=True, inplace=True)\n",
    "\n",
    "df4 = getGenes_fromPatients(pm_graph, patients)\n",
    "\n",
    "print(f'Studio: {studyId}')\n",
    "print(f'Malattia: {disease}')\n",
    "print('')\n",
    "print(f'Survival rate minimo: {kmin}')\n",
    "print(f'Surival rate massimo: {kmax}')\n",
    "print(f'Numero pazienti: {len(patients)}')\n",
    "avg_survival_rate = round(df1['Survival rate'].mean(), 1)\n",
    "print(f'Average survival rate: {avg_survival_rate}')\n",
    "\n",
    "survival = df1.value_counts('Survival status', normalize=True, sort=False).mul(100).round(1)\n",
    "print(survival)\n",
    "\n",
    "display(df1)\n",
    "print('Tabella delle percetuali di ogni mutazione')\n",
    "display(df2)\n",
    "print('Tabella delle percentuali di ogni gene (calcolata come somma delle percentuali delle mutazioni)')\n",
    "display(df3)\n",
    "print('Tabella delle percentuali di ogni gene')\n",
    "display(df4)\n",
    "#with pd.option_context('display.max_rows', None): display(df2)\n",
    "\n",
    "position = f'risultati/esp 4'\n",
    "#save_result(df1, position, f'{studyId} pazienti')\n",
    "#save_result(df2, position, f'{studyId} mutazioni')\n",
    "#save_result(df3, position, 'geni (multi-mutazioni)')\n",
    "#save_result(df4, position, f'{studyId} geni')"
   ]
  },
  {
   "cell_type": "markdown",
   "metadata": {},
   "source": [
    "Sottoinsiemi massimali di mutazioni"
   ]
  },
  {
   "cell_type": "code",
   "execution_count": null,
   "metadata": {},
   "outputs": [],
   "source": [
    "def first_check(pm_graph, P, m, k):\n",
    "    c = pm_graph.in_degree(m)\n",
    "    if c/len(P) >= k/100:\n",
    "        return True\n",
    "    else:\n",
    "        return False\n",
    "\n",
    "def check(pm_graph, P, M, k):\n",
    "    c = 0\n",
    "    for p in P:\n",
    "        muts = pm_graph.neighbors(p)\n",
    "        if M.issubset(muts):\n",
    "            c += 1\n",
    "    if c/len(P) >= k/100:\n",
    "        return True\n",
    "    else:\n",
    "        return False\n",
    "\n",
    "disease = 'all'\n",
    "kmin = 0\n",
    "kmax = 1000\n",
    "genes = set()\n",
    "status = 'all'\n",
    "disease = 'Lung Adenocarcinoma'\n",
    "Pa = getPatients_fromDisease(dip_graph, pm_graph, disease, kmin, kmax, genes, status, no_check=True)\n",
    "Ma = get_MNodes(pm_graph)\n",
    "k = 10\n",
    "print(f'Studio: {studyId}')\n",
    "print(f'Numero pazienti: {len(Pa)}')\n",
    "print(f'Numero mutazioni: {len(Ma)}')\n",
    "print(f'k = {k}')\n",
    "\n",
    "A = set()\n",
    "Mu = set()\n",
    "for m in Ma:\n",
    "    if first_check(pm_graph, Pa, m, k):\n",
    "        Mu.add(frozenset({m}))\n",
    "        A.add(frozenset({m}))\n",
    "S = set()\n",
    "if not Mu:\n",
    "    c = 0\n",
    "else:\n",
    "    c = 1\n",
    "while c == 1:\n",
    "    B = set()\n",
    "    D = set()\n",
    "    for ma in A:\n",
    "        for mu in Mu:\n",
    "            m = ma | mu\n",
    "            if check(pm_graph, Pa, m, k) and m not in B:\n",
    "                B.add(m)\n",
    "                if ma != mu:\n",
    "                    D.add(ma)\n",
    "    if not B:\n",
    "        c = 0\n",
    "    else:\n",
    "        S = S | B\n",
    "        S = S - D\n",
    "        if A != B:\n",
    "            A = B\n",
    "        else:\n",
    "            c = 0\n",
    "\n",
    "l = list(S)\n",
    "df = pd.DataFrame(l)\n",
    "display(df)\n",
    "#save_result(df, studyId, f'{k}%')"
   ]
  },
  {
   "cell_type": "markdown",
   "metadata": {},
   "source": [
    "Clustering"
   ]
  },
  {
   "cell_type": "code",
   "execution_count": 4,
   "metadata": {},
   "outputs": [],
   "source": [
    "k = 0\n",
    "#disease = 'Lung Adenocarcinoma'\n",
    "#patients = list(p for p in dip_graph.neighbors(disease))\n",
    "patients = get_PNodes(pm_graph)\n",
    "total_patients = len(patients)\n",
    "clusters = clustering(pm_graph, patients, k)"
   ]
  },
  {
   "cell_type": "code",
   "execution_count": null,
   "metadata": {},
   "outputs": [],
   "source": [
    "if len(clusters) > 0:\n",
    "    cluster_view = {'Cluster' : [], '# Pazienti' : [], '# Mutazioni': []}\n",
    "    for n, patients in clusters.items():\n",
    "        cluster_view['Cluster'].append(n)\n",
    "        cluster_view['# Pazienti'].append(len(patients))\n",
    "        mutations_df = getMutations_fromPatients(pm_graph, patients)\n",
    "        cluster_view['# Mutazioni'].append(len(mutations_df.index))\n",
    "    cluster_view_df = pd.DataFrame(cluster_view)\n",
    "\n",
    "    cluster_patients = cluster_view_df['# Pazienti'].sum()\n",
    "    ones = total_patients - cluster_patients\n",
    "    total_clusters = len(clusters) + ones\n",
    "    studyName = 'MSK-IMPACT Clinical Sequencing Cohort (MSK, Nat Med 2017)'\n",
    "    cluster_view_df.iloc[:].plot.bar(x='Cluster', rot=0, title=f'Studio: {studyName} - {total_patients} pazienti - k = {k}', figsize=(20, 5))\n",
    "    with pd.option_context('display.max_rows', 50):\n",
    "        display(cluster_view_df)\n",
    "    print(f'{total_patients} pazienti\\n{total_clusters} cluster totali: {len(clusters)} cluster con piú di un paziente ({cluster_patients} pazienti), {ones} cluster con un paziente')\n",
    "\n",
    "    position = f'risultati/clustering/jaccard'\n",
    "    #save_result(cluster_view_df, position, f'{studyId} (k = {k})')"
   ]
  },
  {
   "cell_type": "code",
   "execution_count": null,
   "metadata": {},
   "outputs": [],
   "source": [
    "def show_cluster(number):\n",
    "    for n, patients in clusters.items():\n",
    "        if n == number or number == -1:\n",
    "            patients_df = view_patients(pm_graph, patients)\n",
    "            mutations_df = getMutations_fromPatients(pm_graph, patients)\n",
    "            print(f'Cluster {n}')\n",
    "            display(patients_df)\n",
    "            display(mutations_df)\n",
    "            #save_result(patients_df, position, f'{studyId} (k = {k}) - cl{number} pazienti')\n",
    "            #save_result(mutations_df, position, f'{studyId} (k = {k}) - cl{number} mutazioni')\n",
    "\n",
    "show_cluster(-1)"
   ]
  }
 ],
 "metadata": {
  "kernelspec": {
   "display_name": "Python 3",
   "language": "python",
   "name": "python3"
  },
  "language_info": {
   "codemirror_mode": {
    "name": "ipython",
    "version": 3
   },
   "file_extension": ".py",
   "mimetype": "text/x-python",
   "name": "python",
   "nbconvert_exporter": "python",
   "pygments_lexer": "ipython3",
   "version": "3.11.2"
  }
 },
 "nbformat": 4,
 "nbformat_minor": 2
}
