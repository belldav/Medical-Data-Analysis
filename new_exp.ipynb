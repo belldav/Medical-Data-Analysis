{
 "cells": [
  {
   "cell_type": "markdown",
   "metadata": {},
   "source": [
    "Setup delle variabili generali"
   ]
  },
  {
   "cell_type": "code",
   "execution_count": null,
   "metadata": {},
   "outputs": [],
   "source": [
    "from main import *\n",
    "\n",
    "pd.set_option('display.max_rows', 50)\n",
    "pd.set_option('display.max_columns', 150)\n",
    "\n",
    "studyId = 'nsclc_ctdx_msk_2022'"
   ]
  },
  {
   "cell_type": "markdown",
   "metadata": {},
   "source": [
    "Importazione dei dati"
   ]
  },
  {
   "cell_type": "code",
   "execution_count": null,
   "metadata": {},
   "outputs": [],
   "source": [
    "patient_data = get_PatientData(studyId)\n",
    "#display(patient_data)\n",
    "\n",
    "sample_data = get_SampleData(studyId)\n",
    "#display(sample_data)\n",
    "\n",
    "mutation_data = get_MutationData(studyId)\n",
    "#display(mutation_data)\n",
    "\n",
    "full_data = get_FullData(sample_data, mutation_data)\n",
    "#display(full_data)"
   ]
  },
  {
   "cell_type": "markdown",
   "metadata": {},
   "source": [
    "Costruzione del grafo"
   ]
  },
  {
   "cell_type": "code",
   "execution_count": null,
   "metadata": {},
   "outputs": [],
   "source": [
    "dip_graph = build_DiPGraph(full_data)\n",
    "pm_graph = build_PMGraph(full_data, patient_data, sample_data)"
   ]
  },
  {
   "cell_type": "markdown",
   "metadata": {},
   "source": [
    "Vista sulle malattie"
   ]
  },
  {
   "cell_type": "code",
   "execution_count": null,
   "metadata": {},
   "outputs": [],
   "source": [
    "df0 = show_diseases(dip_graph)\n",
    "\n",
    "display(df0)\n",
    "#with pd.option_context('display.max_rows', None): display(df)"
   ]
  },
  {
   "cell_type": "markdown",
   "metadata": {},
   "source": [
    "Vista di una malattia specifica: pazienti e mutazioni"
   ]
  },
  {
   "cell_type": "code",
   "execution_count": null,
   "metadata": {},
   "outputs": [],
   "source": [
    "disease = 'Non-Small Cell Lung Cancer'\n",
    "df1 = view_disease(dip_graph, pm_graph, disease)\n",
    "\n",
    "#df.sort_values(by='SURVIVAL RATE', ascending=False, inplace=True)\n",
    "df1.reset_index(drop=True, inplace=True)\n",
    "df1 = df1.round({'SURVIVAL RATE': 0})\n",
    "\n",
    "avg_survival_rate = round(df1['SURVIVAL RATE'].mean(), 1)\n",
    "print(f'Average survival rate: {avg_survival_rate}')\n",
    "\n",
    "display(df1)\n",
    "#with pd.option_context('display.max_rows', None): display(df)\n",
    "\n",
    "df2 = getMutations_fromDisease(dip_graph, pm_graph, disease)\n",
    "\n",
    "studio = 'Metastatic Non-Small Cell Lung Cancer (MSK, Nature Medicine 2022)'\n",
    "print(f'Studio: {studio}')\n",
    "print(f'Malattia: {disease}')\n",
    "print(f'Numero di pazienti affetti: {113}')\n",
    "display(df2)\n",
    "#with pd.option_context('display.max_rows', None): display(df2)"
   ]
  },
  {
   "cell_type": "code",
   "execution_count": null,
   "metadata": {},
   "outputs": [],
   "source": [
    "df3 = getGenes_fromDisease(dip_graph, pm_graph, disease)\n",
    "df3.sort_values('Count', inplace=True, ascending=False)\n",
    "df3.reset_index(drop=True, inplace=True)\n",
    "\n",
    "df4 = df2.groupby('Gene')['Frequency (%)'].sum().reset_index(name='Frequency (%)')\n",
    "df4.sort_values(by='Frequency (%)', ascending=False, inplace=True)\n",
    "df4.reset_index(drop=True, inplace=True)\n",
    "\n",
    "display(df3)\n",
    "display(df4)"
   ]
  }
 ],
 "metadata": {
  "kernelspec": {
   "display_name": "Python 3",
   "language": "python",
   "name": "python3"
  },
  "language_info": {
   "codemirror_mode": {
    "name": "ipython",
    "version": 3
   },
   "file_extension": ".py",
   "mimetype": "text/x-python",
   "name": "python",
   "nbconvert_exporter": "python",
   "pygments_lexer": "ipython3",
   "version": "3.11.2"
  }
 },
 "nbformat": 4,
 "nbformat_minor": 2
}
